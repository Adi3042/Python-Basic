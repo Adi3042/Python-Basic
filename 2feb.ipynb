{
 "cells": [
  {
   "cell_type": "code",
   "execution_count": null,
   "id": "36425ac7-7578-451e-a73b-a7be40af7683",
   "metadata": {},
   "outputs": [],
   "source": [
    "For Loop:-\t                                                      \n",
    "i.It is used when the number of iterations is known.\t               \n",
    "ii. In case of no condition, the loop is repeated infinite times.\t   \n",
    "iii. Initialization is not repeated.\t                                     \n",
    "iv. Statement of Iteration is written after running.\t                    \n",
    "v. Initialization can be in or out of the loop\t                        \n",
    "vi. The nature of the increment is simple.\t                             \n",
    "vii. Used when initialization is simple.\t\n",
    "\n",
    "While Loop:-\n",
    "i. It is used when the number of iterations is not known.\n",
    "ii. In case of no condition, an error will be shown.\n",
    "iii. Initialization is repeated if carried out during the stage of checking.\n",
    "iv. It can be written at any place.\n",
    "v. Initialization is always out of the loop.\n",
    "vi. The nature of the increment is complex.\n",
    "vii. Used when initialization is complex."
   ]
  },
  {
   "cell_type": "code",
   "execution_count": null,
   "id": "69921081-3250-4b8b-b9d6-0a18564f86dd",
   "metadata": {},
   "outputs": [],
   "source": [
    "Using WHILE loop:-\n",
    "n=10\n",
    "sum=0\n",
    "product=1\n",
    "while(n!=0):\n",
    "\tsum+=n\n",
    "\tproduct*=n\n",
    "\tn-=1\n",
    "print(\"Sum of 10 Natural No. = \",sum)\n",
    "print(\"Product of 10 Natural No. = \",product)\n",
    "\n",
    "Using FOR Loop:-\n",
    "sum=0\n",
    "product=1\n",
    "for i in range(1,11):\n",
    "    sum+=i\n",
    "    product*=i\n",
    "print(\"Sum of 10 Natural Numbers = \",sum)\n",
    "print(\"Product of 10 Natural Numbers = \",product)"
   ]
  },
  {
   "cell_type": "code",
   "execution_count": null,
   "id": "cefc4dd3-5788-448d-b7af-d2af34529404",
   "metadata": {},
   "outputs": [],
   "source": [
    "units=int(input(\"Enter the Electricity Consumed = \"))\n",
    "calculated_bill=0\n",
    "if (units <= 100):\n",
    "\tcalculated_bill=units * 4.5\n",
    "elif (units <= 200):\n",
    "\tcalculated_bill=((100 * 4.5) +(units - 100) * 6)\n",
    "elif (units <= 300):\n",
    "\tcalculated_bill=((100 * 4.5) +(100 * 6) +(units - 200) * 10)\n",
    "else:\n",
    "\tcalculated_bill=((100 * 4.5) +(100 * 6) +(100 * 10) +(units - 300) * 20)\n",
    "print(\"The Total electricity bill = \",calculated_bill)"
   ]
  },
  {
   "cell_type": "code",
   "execution_count": null,
   "id": "67383a03-f7a1-4bfc-9896-97367205da6b",
   "metadata": {},
   "outputs": [],
   "source": [
    "list1=[i**3 for i in range(1,101)]\n",
    "new_list=list(filter(lambda x:(x%4==0 or x%5==0),list1))\n",
    "print(new_list)"
   ]
  },
  {
   "cell_type": "code",
   "execution_count": null,
   "id": "5589dd27-d0e3-4f65-8c79-7fe49714bd5f",
   "metadata": {},
   "outputs": [],
   "source": [
    "str1 = input(\"Please Enter String : \")\n",
    "str1=str1.lower()\n",
    "vowels = 0\n",
    "for i in str1:\n",
    "    if(i == 'a' or i == 'e' or i == 'i' or i == 'o' or i == 'u'):\n",
    "        vowels+=1\n",
    "print(\"Total Number of Vowels in this String = \", vowels)"
   ]
  }
 ],
 "metadata": {
  "kernelspec": {
   "display_name": "Python 3 (ipykernel)",
   "language": "python",
   "name": "python3"
  },
  "language_info": {
   "codemirror_mode": {
    "name": "ipython",
    "version": 3
   },
   "file_extension": ".py",
   "mimetype": "text/x-python",
   "name": "python",
   "nbconvert_exporter": "python",
   "pygments_lexer": "ipython3",
   "version": "3.10.8"
  }
 },
 "nbformat": 4,
 "nbformat_minor": 5
}

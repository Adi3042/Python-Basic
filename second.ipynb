{
 "cells": [
  {
   "cell_type": "code",
   "execution_count": null,
   "id": "ce8c1a77-60e2-4b91-ba7c-98f068aa6e96",
   "metadata": {},
   "outputs": [],
   "source": [
    "per=int(input(\"Enter the Percentage = \"))\n",
    "if(per>90):\n",
    "    print(\"Grade A\")\n",
    "elif (per>80 and per<=90):\n",
    "    print(\"Grade B\")\n",
    "elif (per<=80 and per>=60):\n",
    "    print(\"Grade C\")\n",
    "else:\n",
    "    print(\"Grade D\")"
   ]
  },
  {
   "cell_type": "code",
   "execution_count": null,
   "id": "7611132c-3e59-41a7-bbbf-42d900855f03",
   "metadata": {},
   "outputs": [],
   "source": [
    "costprice=int(input(\"Enter the Cost Price(in Rs) : \"))\n",
    "if (costprice>100000):\n",
    "    print(\"Tax to be paid = 15%\")\n",
    "elif (costprice>50000 and costprice<=100000):\n",
    "    print(\"Tax to be paid = 10%\")\n",
    "else:\n",
    "    print(\"Tax to be paid = 5%\")"
   ]
  },
  {
   "cell_type": "code",
   "execution_count": null,
   "id": "2c8b8dc6-3bac-4d16-9881-2212e9004787",
   "metadata": {},
   "outputs": [],
   "source": [
    "city=input(\"Enter the city : \")\n",
    "if (city==\"Delhi\" or city==\"delhi\"):\n",
    "    print(\"Monument : Red Fort\")\n",
    "elif (city==\"Agra\" or city==\"agra\"):\n",
    "    print(\"Monument : Taj Mahal\")\n",
    "elif (city==\"Jaipur\" or city==\"jaipur\"):\n",
    "    print(\"Jai Mahal\")\n",
    "else:\n",
    "    print(\"Please enter valid city!!!\")"
   ]
  },
  {
   "cell_type": "code",
   "execution_count": null,
   "id": "012a52b8-2105-4007-b088-277d90eeb386",
   "metadata": {},
   "outputs": [],
   "source": [
    "no=int(input(\"Enter a number = \"))\n",
    "temp=0\n",
    "while (no>10):\n",
    "    no/=3\n",
    "    temp+=1\n",
    "print(\"No of times divided by 3 = \",temp)"
   ]
  },
  {
   "cell_type": "code",
   "execution_count": null,
   "id": "5ecd6e09-5b53-432b-8a14-0032607f844e",
   "metadata": {},
   "outputs": [],
   "source": [
    "A while loop repeats a block of code an unknown number of \n",
    "times until a condition is no longer met.\n",
    "\n",
    "a while loop is useful when you don’t know how many times \n",
    "you want a block of code to execute\n",
    "\n",
    "a while loop is useful when you don’t know how many times \n",
    "you want a block of code to execute\n",
    "\n",
    "A Boolean condition is a condition that evaluates to either \n",
    "True or False.\n",
    "\n",
    "A while loop will always first check the condition before \n",
    "running. If the condition evaluates to True, then the loop \n",
    "will run the code within the loop's body and continue to run \n",
    "the code while the condition remains True.\n",
    "\n",
    "It will keep executing the desired set of code statements \n",
    "until that condition is no longer True.\n",
    "\n",
    "Example:-\n",
    "#this creates an infinte loop\n",
    "\n",
    "while True:\n",
    "    print(\"I am always true\")"
   ]
  },
  {
   "cell_type": "code",
   "execution_count": null,
   "id": "d6263453-b71c-4509-a0b8-eadbbede87a6",
   "metadata": {},
   "outputs": [],
   "source": [
    "(1).    i=1\n",
    "        while i<=5:\n",
    "            j=1\n",
    "            while j<=i:\n",
    "                print(j,end=\" \")\n",
    "                j=j+1\n",
    "            print(\"\")\n",
    "            i=i+1\n",
    "            \n",
    "(2).    i = 1\n",
    "        while i <= 4 :\n",
    "            j = 0\n",
    "            while  j <= 3 :\n",
    "                print(i*j, end=\" \")\n",
    "                j += 1\n",
    "            print()\n",
    "            i += 1\n",
    "            \n",
    "(3).    i = 1\n",
    "        while i <= 4 :\n",
    "            j = 0\n",
    "            while  j <= 3 :\n",
    "                k = 0\n",
    "                while  k <= 5 :\n",
    "                    print(i*j*k, end=\" \")\n",
    "                    k += 1\n",
    "                print()\n",
    "                j += 1\n",
    "            print()\n",
    "            i += 1"
   ]
  },
  {
   "cell_type": "code",
   "execution_count": null,
   "id": "3a7207d6-8dd5-43bb-b097-237aa508d818",
   "metadata": {},
   "outputs": [],
   "source": [
    "n=10\n",
    "while(n>0):\n",
    "    print(n)\n",
    "    n-=1"
   ]
  },
  {
   "cell_type": "code",
   "execution_count": null,
   "id": "9d1173d9-c773-45d8-96db-526277063802",
   "metadata": {},
   "outputs": [],
   "source": [
    "n=10\n",
    "while(n>0):\n",
    "    print(n)\n",
    "    n-=1"
   ]
  }
 ],
 "metadata": {
  "kernelspec": {
   "display_name": "Python 3 (ipykernel)",
   "language": "python",
   "name": "python3"
  },
  "language_info": {
   "codemirror_mode": {
    "name": "ipython",
    "version": 3
   },
   "file_extension": ".py",
   "mimetype": "text/x-python",
   "name": "python",
   "nbconvert_exporter": "python",
   "pygments_lexer": "ipython3",
   "version": "3.10.8"
  }
 },
 "nbformat": 4,
 "nbformat_minor": 5
}

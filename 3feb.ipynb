{
 "cells": [
  {
   "cell_type": "code",
   "execution_count": 39,
   "id": "8ddea87f-2aa4-40ba-95d6-b5e548376aa8",
   "metadata": {},
   "outputs": [],
   "source": [
    "#1. Which keyword is used to create a function? Create a function to return a list of odd numbers in the range of 1 to 25.\n",
    "\n",
    "#def keyword is used to create a function\n",
    "def odd():\n",
    "    for i in range(1,26):\n",
    "        if i%2!=0:\n",
    "            print(i)"
   ]
  },
  {
   "cell_type": "code",
   "execution_count": 40,
   "id": "f2f6f0d2-84cc-4690-a7b9-d170fa7de8e3",
   "metadata": {},
   "outputs": [
    {
     "name": "stdout",
     "output_type": "stream",
     "text": [
      "1\n",
      "3\n",
      "5\n",
      "7\n",
      "9\n",
      "11\n",
      "13\n",
      "15\n",
      "17\n",
      "19\n",
      "21\n",
      "23\n",
      "25\n"
     ]
    }
   ],
   "source": [
    "odd()"
   ]
  },
  {
   "cell_type": "code",
   "execution_count": 41,
   "id": "b5bc7e3b-0f88-4d06-b703-6347947edac7",
   "metadata": {},
   "outputs": [],
   "source": [
    "#2. Why *args and **kwargs is used in some functions? Create a function each for *args and **kwargs to demonstrate their use.\n",
    "'''\n",
    " *args and **kwargs allow you to pass multiple arguments\n",
    " *args takes all the parameters that are provided in the input and packs them all into a single iterable object named args.\n",
    "For Example---'''\n",
    "\n",
    "def add(*args):\n",
    "    sum=0\n",
    "    for x in args:\n",
    "        sum+=x\n",
    "    return sum\n",
    "\n",
    "'''**kwargs works similar to *args, but instead of accepting positional arguments it accepts keyword arguments.'''\n",
    "\n",
    "def fruit(**kwargs):\n",
    "    return kwargs"
   ]
  },
  {
   "cell_type": "code",
   "execution_count": 42,
   "id": "e74a8b97-26aa-482e-b3a9-1c4685c32eb3",
   "metadata": {},
   "outputs": [
    {
     "name": "stdout",
     "output_type": "stream",
     "text": [
      "55\n"
     ]
    }
   ],
   "source": [
    "print(add(1,2,3,4,5,6,7,8,9,10))"
   ]
  },
  {
   "cell_type": "code",
   "execution_count": 43,
   "id": "8d89db6d-2d21-4166-9b39-016181029061",
   "metadata": {},
   "outputs": [
    {
     "name": "stdout",
     "output_type": "stream",
     "text": [
      "{'grapes': 5, 'mango': 7, 'watermelon': 8, 'apple': 9, 'orange': 11}\n"
     ]
    }
   ],
   "source": [
    "print(fruit(grapes=5, mango=7, watermelon=8,apple=9,orange=11))"
   ]
  },
  {
   "cell_type": "code",
   "execution_count": 44,
   "id": "0b4f57c4-a221-492f-a621-43100a67b247",
   "metadata": {},
   "outputs": [
    {
     "name": "stdout",
     "output_type": "stream",
     "text": [
      "2\n",
      "4\n",
      "6\n",
      "8\n",
      "10\n"
     ]
    }
   ],
   "source": [
    "#3. What is an iterator in python? Name the method used to initialise the iterator object and the method used for iteration. Use these methods to \n",
    "# print the first five elements of the given list [2, 4, 6, 8, 10, 12, 14, 16, 18, 20].\n",
    "''' \n",
    "iterator: \n",
    "    an object through which we can go to the next element and return the data is called an iterator.\n",
    "    The iter() method is used to create the iterator over the iterable object.\n",
    "    The next() method returns the next item from the iterator.\n",
    "    Examples of iterables objects are : List, Tuple, Dictionary\n",
    "    \n",
    "The iterator object is initialized using the iter() method.\n",
    "The method used for the iteration is the next() method.'''\n",
    "\n",
    "l=[2, 4, 6, 8, 10, 12, 14,16, 18, 20]\n",
    "l1=iter(l)\n",
    "for i in range(1,6):\n",
    "    print(next(l1))"
   ]
  },
  {
   "cell_type": "code",
   "execution_count": 45,
   "id": "fc35cc93-4b26-4ed5-9ffd-305226cecfc0",
   "metadata": {},
   "outputs": [],
   "source": [
    "#4. What is a generator function in python? Why yield keyword is used? Give an example of a generator function.\n",
    "''' \n",
    "Generator Function:\n",
    "    A Python generator function allows you to declare a function that behaves like an iterator, providing a faster and easier way to \n",
    "    create iterators.\n",
    "    \n",
    "yield keyword is used to create a generator function.\n",
    "\n",
    "'''    \n",
    "def fibb(n):\n",
    "    a,b=0,1\n",
    "    for i in range(n):\n",
    "        yield a\n",
    "        a,b=b,b+a"
   ]
  },
  {
   "cell_type": "code",
   "execution_count": 46,
   "id": "494aa373-7373-462a-b536-f7ead48b7278",
   "metadata": {},
   "outputs": [
    {
     "name": "stdout",
     "output_type": "stream",
     "text": [
      "0\n",
      "1\n",
      "1\n",
      "2\n",
      "3\n",
      "5\n",
      "8\n",
      "13\n",
      "21\n",
      "34\n"
     ]
    }
   ],
   "source": [
    "for i in fibb(10):\n",
    "    print(i)"
   ]
  },
  {
   "cell_type": "code",
   "execution_count": 47,
   "id": "698bb0f9-6775-4add-a3fb-a30f26d3ca54",
   "metadata": {},
   "outputs": [],
   "source": [
    "#5.Create a generator function for prime numbers less than 1000. Use the next() method to print the first 20 prime numbers.\n",
    "def prime_numbers():\n",
    "    for i in range(2,100):\n",
    "        if i>1:\n",
    "            for j in range(2,i):\n",
    "                if i%j==0:\n",
    "                    break\n",
    "                else:\n",
    "                    yield i\n",
    "                    break"
   ]
  },
  {
   "cell_type": "code",
   "execution_count": 48,
   "id": "f70da4ed-a630-491d-aed0-4be8bc29e1ab",
   "metadata": {},
   "outputs": [
    {
     "name": "stdout",
     "output_type": "stream",
     "text": [
      "3\n",
      "5\n",
      "7\n",
      "9\n",
      "11\n",
      "13\n",
      "15\n",
      "17\n",
      "19\n",
      "21\n",
      "23\n",
      "25\n",
      "27\n",
      "29\n",
      "31\n",
      "33\n",
      "35\n",
      "37\n",
      "39\n",
      "41\n"
     ]
    }
   ],
   "source": [
    "prime=prime_numbers()\n",
    "for i in range(20):\n",
    "    print(next(prime))"
   ]
  },
  {
   "cell_type": "code",
   "execution_count": 63,
   "id": "c2e7c6f0-ecb9-442b-846b-0b9ff8a3667e",
   "metadata": {},
   "outputs": [
    {
     "name": "stdout",
     "output_type": "stream",
     "text": [
      "0\n",
      "1\n",
      "1\n",
      "2\n",
      "3\n",
      "5\n",
      "8\n",
      "13\n",
      "21\n",
      "34\n"
     ]
    }
   ],
   "source": [
    "#6. Write a python program to print the first 10 Fibonacci numbers using a while loop.\n",
    "\n",
    "a,b=0,1\n",
    "n=1\n",
    "while(n<=10):\n",
    "    print(a)\n",
    "    a,b=b,a+b\n",
    "    n+= 1"
   ]
  },
  {
   "cell_type": "code",
   "execution_count": 66,
   "id": "d47e8808-fb7e-4412-9ada-10e46e70f117",
   "metadata": {},
   "outputs": [
    {
     "name": "stdout",
     "output_type": "stream",
     "text": [
      "['p', 'w', 's', 'k', 'i', 'l', 'l', 's']\n"
     ]
    }
   ],
   "source": [
    "#7. Write a List Comprehension to iterate through the given string: ‘pwskills’.\n",
    "# Expected output: ['p', 'w', 's', 'k', 'i', 'l', 'l', 's']\n",
    "\n",
    "list=[i for i in \"pwskills\"]\n",
    "print(list)"
   ]
  },
  {
   "cell_type": "code",
   "execution_count": 77,
   "id": "58c173bc-3764-4199-af91-e887bda2f61e",
   "metadata": {},
   "outputs": [
    {
     "name": "stdin",
     "output_type": "stream",
     "text": [
      "Enter the no =  121\n"
     ]
    },
    {
     "name": "stdout",
     "output_type": "stream",
     "text": [
      "Palindrome\n"
     ]
    }
   ],
   "source": [
    "#8. Write a python program to check whether a given number is Palindrome or not using a while loop.\n",
    "\n",
    "num=input(\"Enter the no = \")\n",
    "if num[::-1]==num:\n",
    "    print(\"Palindrome\")\n",
    "else:\n",
    "    print(\"Not Palindrome\")"
   ]
  },
  {
   "cell_type": "code",
   "execution_count": null,
   "id": "beeb6fc1-ef25-44ab-9871-b931ceee5a80",
   "metadata": {},
   "outputs": [],
   "source": [
    "#9. Write a code to print odd numbers from 1 to 100 using list comprehension.\n",
    "\n",
    "old_list=[i for i in range(1,101)]\n",
    "print(old_list)\n",
    "new_list=list(filter(lambda x:x%2!=0, old_list))\n",
    "print(new_list)"
   ]
  },
  {
   "cell_type": "code",
   "execution_count": null,
   "id": "3e18cc4e-7a23-4a32-a3dd-0fc89a4f290a",
   "metadata": {},
   "outputs": [],
   "source": []
  }
 ],
 "metadata": {
  "kernelspec": {
   "display_name": "Python 3 (ipykernel)",
   "language": "python",
   "name": "python3"
  },
  "language_info": {
   "codemirror_mode": {
    "name": "ipython",
    "version": 3
   },
   "file_extension": ".py",
   "mimetype": "text/x-python",
   "name": "python",
   "nbconvert_exporter": "python",
   "pygments_lexer": "ipython3",
   "version": "3.10.8"
  }
 },
 "nbformat": 4,
 "nbformat_minor": 5
}

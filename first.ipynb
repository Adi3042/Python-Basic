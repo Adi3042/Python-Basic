{
 "cells": [
  {
   "cell_type": "code",
   "execution_count": null,
   "id": "118424b8-122b-494b-b174-75c6435026ee",
   "metadata": {},
   "outputs": [],
   "source": [
    "Guido van Rossum"
   ]
  },
  {
   "cell_type": "code",
   "execution_count": null,
   "id": "a478e003-536b-4dd8-910d-f576ec3de9c1",
   "metadata": {},
   "outputs": [],
   "source": [
    "Python is an interpreted, interactive, object-oriented programming language"
   ]
  },
  {
   "cell_type": "code",
   "execution_count": null,
   "id": "9e642c8c-e1fa-4a1a-a7cb-031d487d2f9e",
   "metadata": {},
   "outputs": [],
   "source": [
    "Yes, Python is case sensitive"
   ]
  },
  {
   "cell_type": "code",
   "execution_count": null,
   "id": "51aecdb0-69be-441b-aadb-dd76d3fac34a",
   "metadata": {},
   "outputs": [],
   "source": [
    ".py is the correct extension of python file"
   ]
  },
  {
   "cell_type": "code",
   "execution_count": null,
   "id": "df60d8d2-b1e0-4441-af22-d0260d04f48a",
   "metadata": {},
   "outputs": [],
   "source": [
    "python code is interpreted"
   ]
  },
  {
   "cell_type": "code",
   "execution_count": null,
   "id": "70e9715d-f294-4680-831d-d6a7bbf4af25",
   "metadata": {},
   "outputs": [],
   "source": [
    "Indentation is used to define a block of code in python"
   ]
  },
  {
   "cell_type": "code",
   "execution_count": null,
   "id": "3b4a514e-c28b-48b2-ad3c-d9667353ca1c",
   "metadata": {},
   "outputs": [],
   "source": [
    "\"#\" is used for single line comment in python"
   ]
  },
  {
   "cell_type": "code",
   "execution_count": null,
   "id": "e6598302-f82f-494c-9dca-566b85efed0c",
   "metadata": {},
   "outputs": [],
   "source": [
    "python --version on terminal helps to find the version of the python"
   ]
  },
  {
   "cell_type": "code",
   "execution_count": null,
   "id": "23ea92e7-334a-45fc-ae6e-7c8290ffe4a6",
   "metadata": {},
   "outputs": [],
   "source": [
    "It uses a construct called \"lambda\""
   ]
  },
  {
   "cell_type": "code",
   "execution_count": null,
   "id": "86014e3c-2faa-4958-a671-e3ec2e4d2fed",
   "metadata": {},
   "outputs": [],
   "source": [
    "pip stands on Package Installer for Python"
   ]
  },
  {
   "cell_type": "code",
   "execution_count": null,
   "id": "3f2d6b86-2a4e-4d97-a401-a38ebf8abc00",
   "metadata": {},
   "outputs": [],
   "source": [
    "Some built in function of python are--\n",
    "list()\n",
    "len()\n",
    ".capitalize()\n",
    ".lower()"
   ]
  },
  {
   "cell_type": "code",
   "execution_count": null,
   "id": "29440313-95dc-49b1-9af1-f8b6a46c4912",
   "metadata": {},
   "outputs": [],
   "source": [
    "An identifier can have a maximum length of 79 characters in Python"
   ]
  },
  {
   "cell_type": "code",
   "execution_count": null,
   "id": "625c87ec-31a1-4bd3-babd-6bf3a4be1399",
   "metadata": {},
   "outputs": [],
   "source": [
    "Some benefits of using Python---\n",
    "Simple to Use and Understand\n",
    "Free and Open-Source\n",
    "Interpreted Language\n",
    "Extensive library\n",
    "Dynamically Typed\n",
    "Portability\n",
    "Supportive community"
   ]
  },
  {
   "cell_type": "code",
   "execution_count": null,
   "id": "b850f7b3-4124-4c94-ad54-a68f055d929c",
   "metadata": {},
   "outputs": [],
   "source": [
    "Python uses a portion of the memory for internal use and non-object memory"
   ]
  },
  {
   "cell_type": "code",
   "execution_count": null,
   "id": "6f5d4452-7974-443b-ab2d-72d9c209d159",
   "metadata": {},
   "outputs": [],
   "source": [
    "First, download the python .exe file from python.org server of latest version\n",
    "\n",
    "Second, Right Click -> Run as administrator -> tick on all\n",
    "the check boxes\n",
    "also on \"add to path\" \n",
    "\n",
    "Third, Start clicking Yes->Next->Next->Install"
   ]
  },
  {
   "cell_type": "code",
   "execution_count": null,
   "id": "3a677f8c-1d4e-4381-8638-e5890687b3f8",
   "metadata": {},
   "outputs": [],
   "source": [
    "Yes python required indentation"
   ]
  }
 ],
 "metadata": {
  "kernelspec": {
   "display_name": "Python 3 (ipykernel)",
   "language": "python",
   "name": "python3"
  },
  "language_info": {
   "codemirror_mode": {
    "name": "ipython",
    "version": 3
   },
   "file_extension": ".py",
   "mimetype": "text/x-python",
   "name": "python",
   "nbconvert_exporter": "python",
   "pygments_lexer": "ipython3",
   "version": "3.10.8"
  }
 },
 "nbformat": 4,
 "nbformat_minor": 5
}
